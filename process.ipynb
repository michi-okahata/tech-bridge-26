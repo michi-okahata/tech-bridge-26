{
 "cells": [
  {
   "cell_type": "markdown",
   "metadata": {},
   "source": [
    "# Process data\n",
    "\n",
    "Thoughts\n",
    "\n",
    "Tables, attributes that are important\n",
    "\n",
    "Requirements are in requirements.txt"
   ]
  },
  {
   "cell_type": "code",
   "execution_count": null,
   "metadata": {},
   "outputs": [],
   "source": [
    "import pandas as pd"
   ]
  },
  {
   "cell_type": "markdown",
   "metadata": {},
   "source": [
    "Sheets: ['AE - DocumentHeader', 'AE - DocumentLine', 'RW_ORG', 'RW_USER']\n",
    "\n",
    "Corresponds to the data dictionary table name"
   ]
  },
  {
   "cell_type": "code",
   "execution_count": 3,
   "metadata": {},
   "outputs": [
    {
     "name": "stdout",
     "output_type": "stream",
     "text": [
      "['AE - DocumentHeader', 'AE - DocumentLine', 'RW_ORG', 'RW_USER']\n"
     ]
    }
   ],
   "source": [
    "sheets = pd.ExcelFile(\"./data/AE Data.xlsx\").sheet_names\n",
    "print(sheets)"
   ]
  },
  {
   "cell_type": "markdown",
   "metadata": {},
   "source": [
    "Attribute/columns:\n",
    "\n",
    "'AE - DocumentHeader': ['DOCUMENTID', 'REFNUMBER', 'SOURCEORG', 'USERID', 'STATUS', 'CREATEDDATE', 'EXPIRYDATE', 'MODIFIEDDATE', 'WAREHOUSEID', 'PROP1', 'PROP2', 'PROP3', 'PROP4', 'PROP5', 'PROP6', 'PROP7', 'PROP8', 'PROP9', 'PROP10', 'PROP11', 'PROP12', 'PROP13', 'PROP14', 'PROP15', 'NOTIFY', 'DOCTYPE', 'USERNAME', 'USEREMAIL', 'SOURCEORGNAME', 'DOMAINID', 'DOMAINNAME', 'ARCHIVEDDATE', 'ISARCHIVED'], \n",
    "\n",
    "'AE - DocumentLine': ['HEADERID', 'LINEITEMNUMBER', 'ITEMNAME', 'ITEMCODE', 'TRADINGGROUP', 'DESTINATIONORG', 'DONATEDQUANTITY', 'PROP1', 'PROP2', 'PROP3', 'PROP4', 'PROP5', 'PROP6', 'PROP7', 'PROP8', 'PROP9', 'PROP10', 'PROP11', 'PROP12', 'PROP13', 'PROP14', 'PROP16', 'PROP17', 'PROP18', 'PROP19', 'PROP20', 'NOTIFY', 'PROP15', 'STATUS', 'ACCEPTEDQUANTITY', 'ACCEPTEDDATE', 'RECEIPTEDQUANTITY', 'RECEIPTEDDATE', 'DESTINATIONORGNAME', 'COMMENTS', 'USERID', 'USERFIRSTNAME', 'USERLASTNAME', 'USEREMAIL', 'RPROP1', 'RPROP2', 'RPROP3', 'RPROP4', 'RPROP5', 'RPROP6', 'RPROP7', 'RPROP8', 'RPROP9', 'RPROP10', 'RPROP11', 'RPROP12', 'RPROP13', 'RPROP14', 'RPROP15'], \n",
    "\n",
    "'RW_ORG': ['ORG_ID', 'NAME', 'PRINTABLE_NAME', 'STATUS_FLAG', 'E_MAIL', 'DESCRIPTION', 'ONE_APPROVER_FLAG', 'FINAL_AMOUNT', 'CURRENCY', 'CURRENCY_PATTERN', 'FLOAT_PATTERN', 'GROUP_SEPARATOR', 'GROUP_SIZE', 'DECIMAL_CHAR', 'LANGUAGE', 'COUNTRY', 'VARIANT', 'TIME_ZONE', 'DOMAIN', 'URL', 'DIVISION_ID', 'EXTERNAL_ID', 'DUNS_NUMBER', 'TAX_ID', 'INDUSTRY_CODE', 'CONTACT_NAME', 'ORG_TYPE', 'CUSTOM_TYPE', 'CREATED_TIME', 'CREATED_BY', 'MODIFIED_TIME', 'MODIFIED_BY', 'SYS_FLAGS', 'PATH', 'YEARS_IN_BUSINESS', 'INDUSTRY_VAL_NUM', 'ANNUAL_REV_VID', 'EMP_COUNT_VID', 'OCA', 'PARENT_ORG_ID', 'FINAL_APPROVER_ID', 'ADMIN_USER_ID', 'SUPPLIER_ID', 'MASTER_ORG_ID', 'ONLINEORDERSTATUS', 'QUESTIONNAIREGROUPCODE'], \n",
    "\n",
    "'RW_USER': ['USER_ID', 'LOGIN_STR', 'STATUS_CODE', 'E_MAIL', 'LAST_NAME', 'FIRST_NAME', 'MIDDLE_NAME', 'PRINTABLE_NAME', 'EMPLOYEE_ID', 'TELEPHONE', 'FAX', 'TITLE', 'SYS_FLAGS', 'ADDRESS_LINE_1', 'ADDRESS_LINE_2', 'ADDRESS_LINE_3', 'CITY', 'STATE', 'COUNTRY', 'ZIP', 'SALUTATION_VID', 'IS_CONTACT_ALLOWED', 'PASSWORD_SET_DATE', 'PASSWORD_REMINDER', 'PASSWORD_QUESTION', 'PASSWORD_ANSWER', 'CREATED_BY', 'CREATED_TIME', 'MODIFIED_BY', 'MODIFIED_TIME', 'OCA', 'ORG_ID', 'REPORTS_TO_ID', 'JOB_LEVEL_ID', 'JOB_FUNCTION_ID', 'CAN_PLACE_ORDER', 'CAN_COMPLETE_SURVEY']"
   ]
  },
  {
   "cell_type": "code",
   "execution_count": 8,
   "metadata": {},
   "outputs": [
    {
     "name": "stdout",
     "output_type": "stream",
     "text": [
      "{'AE - DocumentHeader': ['DOCUMENTID', 'REFNUMBER', 'SOURCEORG', 'USERID', 'STATUS', 'CREATEDDATE', 'EXPIRYDATE', 'MODIFIEDDATE', 'WAREHOUSEID', 'PROP1', 'PROP2', 'PROP3', 'PROP4', 'PROP5', 'PROP6', 'PROP7', 'PROP8', 'PROP9', 'PROP10', 'PROP11', 'PROP12', 'PROP13', 'PROP14', 'PROP15', 'NOTIFY', 'DOCTYPE', 'USERNAME', 'USEREMAIL', 'SOURCEORGNAME', 'DOMAINID', 'DOMAINNAME', 'ARCHIVEDDATE', 'ISARCHIVED'], 'AE - DocumentLine': ['HEADERID', 'LINEITEMNUMBER', 'ITEMNAME', 'ITEMCODE', 'TRADINGGROUP', 'DESTINATIONORG', 'DONATEDQUANTITY', 'PROP1', 'PROP2', 'PROP3', 'PROP4', 'PROP5', 'PROP6', 'PROP7', 'PROP8', 'PROP9', 'PROP10', 'PROP11', 'PROP12', 'PROP13', 'PROP14', 'PROP16', 'PROP17', 'PROP18', 'PROP19', 'PROP20', 'NOTIFY', 'PROP15', 'STATUS', 'ACCEPTEDQUANTITY', 'ACCEPTEDDATE', 'RECEIPTEDQUANTITY', 'RECEIPTEDDATE', 'DESTINATIONORGNAME', 'COMMENTS', 'USERID', 'USERFIRSTNAME', 'USERLASTNAME', 'USEREMAIL', 'RPROP1', 'RPROP2', 'RPROP3', 'RPROP4', 'RPROP5', 'RPROP6', 'RPROP7', 'RPROP8', 'RPROP9', 'RPROP10', 'RPROP11', 'RPROP12', 'RPROP13', 'RPROP14', 'RPROP15'], 'RW_ORG': ['ORG_ID', 'NAME', 'PRINTABLE_NAME', 'STATUS_FLAG', 'E_MAIL', 'DESCRIPTION', 'ONE_APPROVER_FLAG', 'FINAL_AMOUNT', 'CURRENCY', 'CURRENCY_PATTERN', 'FLOAT_PATTERN', 'GROUP_SEPARATOR', 'GROUP_SIZE', 'DECIMAL_CHAR', 'LANGUAGE', 'COUNTRY', 'VARIANT', 'TIME_ZONE', 'DOMAIN', 'URL', 'DIVISION_ID', 'EXTERNAL_ID', 'DUNS_NUMBER', 'TAX_ID', 'INDUSTRY_CODE', 'CONTACT_NAME', 'ORG_TYPE', 'CUSTOM_TYPE', 'CREATED_TIME', 'CREATED_BY', 'MODIFIED_TIME', 'MODIFIED_BY', 'SYS_FLAGS', 'PATH', 'YEARS_IN_BUSINESS', 'INDUSTRY_VAL_NUM', 'ANNUAL_REV_VID', 'EMP_COUNT_VID', 'OCA', 'PARENT_ORG_ID', 'FINAL_APPROVER_ID', 'ADMIN_USER_ID', 'SUPPLIER_ID', 'MASTER_ORG_ID', 'ONLINEORDERSTATUS', 'QUESTIONNAIREGROUPCODE'], 'RW_USER': ['USER_ID', 'LOGIN_STR', 'STATUS_CODE', 'E_MAIL', 'LAST_NAME', 'FIRST_NAME', 'MIDDLE_NAME', 'PRINTABLE_NAME', 'EMPLOYEE_ID', 'TELEPHONE', 'FAX', 'TITLE', 'SYS_FLAGS', 'ADDRESS_LINE_1', 'ADDRESS_LINE_2', 'ADDRESS_LINE_3', 'CITY', 'STATE', 'COUNTRY', 'ZIP', 'SALUTATION_VID', 'IS_CONTACT_ALLOWED', 'PASSWORD_SET_DATE', 'PASSWORD_REMINDER', 'PASSWORD_QUESTION', 'PASSWORD_ANSWER', 'CREATED_BY', 'CREATED_TIME', 'MODIFIED_BY', 'MODIFIED_TIME', 'OCA', 'ORG_ID', 'REPORTS_TO_ID', 'JOB_LEVEL_ID', 'JOB_FUNCTION_ID', 'CAN_PLACE_ORDER', 'CAN_COMPLETE_SURVEY']}\n"
     ]
    }
   ],
   "source": [
    "data_dict = pd.ExcelFile(\"./data/AE Data.xlsx\")\n",
    "\n",
    "tables = {}\n",
    "\n",
    "for table in data_dict.sheet_names:\n",
    "    df = pd.read_excel(data_dict, sheet_name=table, nrows=0)\n",
    "    tables[table] = df.columns.to_list()\n",
    "    \n",
    "print(tables)"
   ]
  }
 ],
 "metadata": {
  "kernelspec": {
   "display_name": ".venv",
   "language": "python",
   "name": "python3"
  },
  "language_info": {
   "codemirror_mode": {
    "name": "ipython",
    "version": 3
   },
   "file_extension": ".py",
   "mimetype": "text/x-python",
   "name": "python",
   "nbconvert_exporter": "python",
   "pygments_lexer": "ipython3",
   "version": "3.11.11"
  }
 },
 "nbformat": 4,
 "nbformat_minor": 2
}
