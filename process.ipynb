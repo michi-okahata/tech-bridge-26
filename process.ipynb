{
 "cells": [
  {
   "cell_type": "markdown",
   "metadata": {},
   "source": [
    "# Process data\n",
    "\n",
    "Thoughts\n",
    "\n",
    "Tables, attributes that are important\n",
    "\n",
    "Requirements are in requirements.txt"
   ]
  },
  {
   "cell_type": "code",
   "execution_count": null,
   "metadata": {},
   "outputs": [],
   "source": [
    "import pandas as pd"
   ]
  },
  {
   "cell_type": "markdown",
   "metadata": {},
   "source": [
    "Sheets: ['AMX_OFFER_HEADER', 'AMX_OFFER_LINES', 'AMX_DONATION_HEADER', 'AMX_DONATION_LINES', 'ACBIDS_ARCHIVE', 'Choice - DOCUMENTHEADER', 'Choice - DOCUMENTLINES', 'RW_ORG', 'RW_USER']\n",
    "\n",
    "Corresponds to the data dictionary table name"
   ]
  },
  {
   "cell_type": "code",
   "execution_count": null,
   "metadata": {},
   "outputs": [],
   "source": [
    "sheets = pd.ExcelFile(\"./data/Choice Data.xlsx\").sheet_names\n",
    "print(sheets)"
   ]
  },
  {
   "cell_type": "markdown",
   "metadata": {},
   "source": [
    "Attribute/columns:\n",
    "\n",
    "'AMX_OFFER_HEADER': ['OFFERNUMBER', 'ANAME', 'ACONTACT', 'ACITY', 'ASTATE', 'APHONE', 'OFFERDATE', 'OFFERTIME', 'OFFEREXPIRATIONDATE', 'OFFEREXPIRATIONTIME', 'OUTBYDATE', 'FIRSTHALFHOURFREE', 'DONORID', 'DONORNAME', 'DONORREFERENCENUMBER', 'RESTRICTIONS', 'WCONTACTNAME', 'WAREHOUSENAME', 'WCONTACTADDRESS', 'WCONTACTCITY', 'WCONTACTSTATE', 'WCONTACTZIP', 'RELEASEDATE', 'SHIPMENTMETHOD', 'STAGINGMETHOD', 'RELEASENUMBER', 'CREDITEXPIRATIONTIME', 'LOGISTICSREP', 'RECEIPTDUEDATE', 'LOGREPPHONE', 'LOGREPFAX', 'LOGREPEMAIL', 'MILES', 'MAGREFNUMBER', 'DONATIONNUMBER', 'STATUS', 'HTMLFILENAME', 'DATEPICKEDUP', 'DECLINEREASONCODE', 'WCONTACTPHONE', 'WCONTACTEMAIL', 'RECEIPTEDBY', 'AFFILIATECOMMENTS', 'TRANSPORTATION', 'DELIVERYINSTRUCTIONS', 'LOADNUMBER'],\n",
    "\n",
    "'AMX_OFFER_LINES': ['MAGREFNUMBER', 'ITEMDESCRIPTION', 'PRODUCTTYPECODE', 'PACK', 'SIZE_', 'SIZEUOM', 'QUANTITY', 'QUANTITYPERPALLET', 'GROSSWEIGHT', 'NETWEIGHT', 'CUBE', 'MANUFACTUREDATE', 'SHELFLIFE', 'EXTENSION', 'UNITOFMEASURE', 'TOTALPALLETS', 'TOTALGROSSWEIGHT', 'TOTALCUBE', 'STORAGEREQUIREMENT', 'EXPIRATIONDATE', 'USEBYDATE', 'BILLOFLADINGNUMBER', 'PACKAGINGTYPE', 'DONATIONREASON', 'ITEMNUMBER', 'OFFERNUMBER', 'OUTBYDATE', 'DONORITEMNO', 'QUANTITYRECEIVED', 'PALLETSRECEIVED', 'GROSSWEIGHTRECEIVED', 'GROUPID'],\n",
    "\n",
    "'AMX_DONATION_HEADER': ['DONATIONNUMBER', 'DONORID', 'DONORNAME', 'DCONTACTNAME', 'DCONTACTCITYSTATEZIP', 'DCONTACTPHONE', 'DCONTACTFAX', 'DONORREFERENCENUMBER', 'DONATIONDATE', 'RELEASEDATE', 'DCONTACTEMAIL', 'RCONTACTNAME', 'RCONTACTPHONE', 'RCONTACTEMAIL', 'WCONTACTNAME', 'WAREHOUSENAME', 'WCONTACTADDRESS', 'WCONTACTCITYSTATEZIP', 'WCONTACTPHONE', 'WCONTACTFAX', 'RELEASENUMBER', 'SHIPMENTMETHOD', 'STAGINGMETHOD', 'DELIVERYINSTRUCTIONS', 'STATUS', 'MAGREFNUMBER', 'HTMLFILENAME', 'OUTBYDATE', 'RCONTACTFAX', 'WCONTACTEMAIL'],\n",
    "\n",
    "'AMX_DONATION_LINES': ['DONATIONNUMBER', 'ITEMNUMBER', 'ITEMDESCRIPTION', 'DONATIONREASON', 'PACK', 'SIZE_', 'SIZEUOM', 'PACKAGINGTYPE', 'UNITOFMEASURE', 'QUANTITY', 'QUANTITYPERPALLET', 'TOTALPALLETS', 'GROSSWEIGHT', 'TOTALGROSSWEIGHT', 'NETWEIGHT', 'CUBE', 'STORAGEREQUIREMENT', 'MANUFACTUREDATE', 'EXPIRATIONDATE', 'SHELFLIFE', 'EXTENSION', 'USEBYDATE', 'BILLOFLADINGNUMBER', 'STATUS', 'CODEDATETYPE', 'MAGREFNUMBER'],\n",
    "\n",
    "'ACBIDS_ARCHIVE': ['DOCUMENTID', 'AFFILIATEWEBID', 'BIDAMOUNT', 'BIDDATE', 'BIDTIME', 'RANK', 'AVAILABLELOADS', 'STATUS', 'ISINITIATOR', 'GROUPID', 'PASSKEY', 'LOADS', 'REASON', 'WINNINGBID', 'USERNAME', 'CREDITSHARES', 'SHARES', 'GROSSWEIGHT', 'DESCRIPTION', 'ID', 'INITIATORWEBID', 'WONLOAD', 'WINNINGBIDLOAD', 'AUCTIONDATE', 'SESSIONINFO', 'TRANSPORTATION'],\n",
    "\n",
    "'Choice - DOCUMENTHEADER': ['DOCUMENTID', 'REFNUMBER', 'SOURCEORG', 'USERID', 'STATUS', 'CREATEDDATE', 'EXPIRYDATE', 'MODIFIEDDATE', 'WAREHOUSEID', 'PROP1', 'PROP2', 'PROP3', 'PROP4', 'PROP5', 'PROP6', 'PROP7', 'PROP8', 'PROP9', 'PROP10', 'PROP11', 'PROP12', 'PROP13', 'PROP14', 'PROP15', 'NOTIFY', 'DOCTYPE', 'USERNAME', 'USEREMAIL', 'SOURCEORGNAME', 'DOMAINID', 'DOMAINNAME', 'PROP16', 'PROP17', 'PROP18', 'PROP19', 'PROP20', 'PROP21', 'PROP22', 'PROP23', 'PROP24', 'PROP25', 'PROP26', 'PROP27', 'PROP28', 'PROP29', 'PROP30', 'PROP31', 'PROP32', 'PROP33', 'PROP34', 'PROP35'],\n",
    "\n",
    "'Choice - DOCUMENTLINES': ['HEADERID', 'LINEITEMNUMBER', 'ITEMNAME', 'ITEMCODE', 'TRADINGGROUP', 'DESTINATIONORG', 'DONATEDQUANTITY', 'PROP1', 'PROP2', 'PROP3', 'PROP4', 'PROP5', 'PROP6', 'PROP7', 'PROP8', 'PROP9', 'PROP10', 'PROP11', 'PROP12', 'PROP13', 'PROP14', 'PROP16', 'PROP17', 'PROP18', 'PROP19', 'PROP20', 'NOTIFY', 'PROP15', 'STATUS', 'ACCEPTEDQUANTITY', 'ACCEPTEDDATE', 'RECEIPTEDQUANTITY', 'RECEIPTEDDATE', 'DESTINATIONORGNAME', 'COMMENTS', 'USERID', 'USERFIRSTNAME', 'USERLASTNAME', 'USEREMAIL', 'RPROP1', 'RPROP2', 'RPROP3', 'RPROP4', 'RPROP5', 'RPROP6', 'RPROP7', 'RPROP8', 'RPROP9', 'RPROP10', 'RPROP11', 'RPROP12', 'RPROP13', 'RPROP14', 'RPROP15', 'PROP21', 'PROP22', 'PROP23', 'PROP24', 'PROP25', 'PROP26', 'PROP27', 'PROP28', 'PROP29', 'PROP30'],\n",
    "\n",
    "'RW_ORG': ['NAME', 'PRINTABLE_NAME', 'STATUS_FLAG', 'E_MAIL', 'DESCRIPTION', 'ONE_APPROVER_FLAG', 'FINAL_AMOUNT', 'CURRENCY', 'CURRENCY_PATTERN', 'FLOAT_PATTERN', 'GROUP_SEPARATOR', 'GROUP_SIZE', 'DECIMAL_CHAR', 'LANGUAGE', 'COUNTRY', 'VARIANT', 'TIME_ZONE', 'DOMAIN', 'URL', 'DIVISION_ID', 'EXTERNAL_ID', 'DUNS_NUMBER', 'TAX_ID', 'INDUSTRY_CODE', 'CONTACT_NAME', 'ORG_TYPE', 'CUSTOM_TYPE', 'CREATED_TIME', 'CREATED_BY', 'MODIFIED_TIME', 'MODIFIED_BY', 'SYS_FLAGS', 'PATH', 'YEARS_IN_BUSINESS', 'INDUSTRY_VAL_NUM', 'ANNUAL_REV_VID', 'EMP_COUNT_VID', 'OCA', 'PARENT_ORG_ID', 'FINAL_APPROVER_ID', 'ADMIN_USER_ID', 'SUPPLIER_ID', 'MASTER_ORG_ID'],\n",
    "\n",
    "'RW_USER': ['USER_ID', 'LOGIN_STR', 'STATUS_CODE', 'E_MAIL', 'LAST_NAME', 'FIRST_NAME', 'MIDDLE_NAME', 'PRINTABLE_NAME', 'EMPLOYEE_ID', 'TELEPHONE', 'FAX', 'TITLE', 'SYS_FLAGS', 'ADDRESS_LINE_1', 'ADDRESS_LINE_2', 'ADDRESS_LINE_3', 'CITY', 'STATE', 'COUNTRY', 'ZIP', 'SALUTATION_VID', 'IS_CONTACT_ALLOWED', 'PASSWORD_SET_DATE', 'PASSWORD_REMINDER', 'PASSWORD_QUESTION', 'PASSWORD_ANSWER', 'CREATED_BY', 'CREATED_TIME', 'MODIFIED_BY', 'MODIFIED_TIME', 'EXTERNAL_ID', 'OCA', 'ORG_ID', 'REPORTS_TO_ID', 'JOB_LEVEL_ID', 'JOB_FUNCTION_ID']\n"
   ]
  },
  {
   "cell_type": "code",
   "execution_count": null,
   "metadata": {},
   "outputs": [],
   "source": [
    "data = pd.ExcelFile(\"./data/Choice Data.xlsx\")\n",
    "\n",
    "tables = {}\n",
    "\n",
    "for table in data.sheet_names:\n",
    "    df = pd.read_excel(data, sheet_name=table, nrows=0)\n",
    "    tables[table] = df.columns.to_list()\n",
    "    \n",
    "print(tables)\n",
    "\n",
    "print(len(tables[\"AMX_OFFER_HEADER\"]))"
   ]
  },
  {
   "cell_type": "markdown",
   "metadata": {},
   "source": [
    "Relavant data/attributes\n",
    "\n",
    "From choice data, check that\n",
    "\n",
    "Posting Date: AMX_DONATION_HEADER --> DONATIONDATE\n",
    "Donor ID: RW_ORG --> NAME\n",
    "Gross Weight: AMX_DONATION_LINES --> TOTALGROSSWEIGHT\n",
    "Branch Code: AMX_DONATION_HEADER --> WAREHOUSENAME\n",
    "Storage Code: AMX_DONATION_LINS --> STORAGEREQUIREMENT\n",
    "Donor Class of Trade: RW_ORG --> ORG_TYPE (Note that all ORG_TYPE are the same, which is noted \"S\")\n",
    "Item Number: AMX_DONATION_LINES --> DONATIONNUMBER\n",
    "\n",
    "We will mostly focus on the following sheets of the dataset \"Choice Data.xlsx\": \n",
    "    AMX_DONATION_LINES: records the donated items\n",
    "    AMX_DONATION_HEADER: records the donors of each donated items and the warehouse info\n",
    "    RW_ORG: records general info of all different donors\n",
    "\n",
    "The three datasets are linked in the following way:\n",
    "    Each donation has a DONATIONNUMBER. The DONATIONNUMBER is present in AMX_DONATION_LINES and AMX_DONATION_HEADER, which can link these two datasets, providing more information on each donated items. \n",
    "    Each donor has a DONORID. The DONORID is present in AMX_DONATION_HEADER and RW_ORG, which can link these two datasets, providing more information on donors.\n",
    "\n",
    "Review sample of data."
   ]
  },
  {
   "cell_type": "markdown",
   "metadata": {},
   "source": [
    "xlsx > sqlite database!\n",
    "Multipe tables/sheets/relations"
   ]
  },
  {
   "cell_type": "code",
   "execution_count": null,
   "metadata": {},
   "outputs": [],
   "source": [
    "import sqlite3\n",
    "\n",
    "conn = sqlite3.connect(\"data/choice.db\")\n",
    "\n",
    "for sheet_name in data.sheet_names:\n",
    "    df = pd.read_excel(data, sheet_name=sheet_name)\n",
    "    df.to_sql(sheet_name, conn, index=False, if_exists=\"replace\")\n",
    "\n",
    "conn.commit()\n",
    "conn.close()"
   ]
  },
  {
   "cell_type": "markdown",
   "metadata": {},
   "source": [
    "Queries"
   ]
  },
  {
   "cell_type": "code",
   "execution_count": 25,
   "metadata": {},
   "outputs": [
    {
     "name": "stdout",
     "output_type": "stream",
     "text": [
      "   COUNT(*)\n",
      "0        80\n"
     ]
    }
   ],
   "source": [
    "conn = sqlite3.connect(\"data/choice.db\")\n",
    "\n",
    "# query = \"SELECT name FROM sqlite_master WHERE type='table';\" # tables\n",
    "# query = \"SELECT * FROM AMX_OFFER_HEADER LIMIT 10;\" # demo\n",
    "\n",
    "query = \"SELECT COUNT(*) FROM RW_ORG\"\n",
    "\n",
    "result = pd.read_sql_query(query, conn)\n",
    "\n",
    "print(result)"
   ]
  }
 ],
 "metadata": {
  "kernelspec": {
   "display_name": ".venv",
   "language": "python",
   "name": "python3"
  },
  "language_info": {
   "codemirror_mode": {
    "name": "ipython",
    "version": 3
   },
   "file_extension": ".py",
   "mimetype": "text/x-python",
   "name": "python",
   "nbconvert_exporter": "python",
   "pygments_lexer": "ipython3",
   "version": "3.11.11"
  }
 },
 "nbformat": 4,
 "nbformat_minor": 2
}
