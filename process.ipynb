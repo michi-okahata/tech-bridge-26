{
 "cells": [
  {
   "cell_type": "markdown",
   "id": "8f2512c4",
   "metadata": {},
   "source": [
    "# Process data\n",
    "\n",
    "Excel > SQLite > DataFrames. SQL due to familiarity."
   ]
  },
  {
   "cell_type": "code",
   "execution_count": 2,
   "id": "8ddeed51",
   "metadata": {},
   "outputs": [],
   "source": [
    "import sqlite3\n",
    "import pandas as pd"
   ]
  },
  {
   "cell_type": "markdown",
   "id": "6f973958",
   "metadata": {},
   "source": [
    "Data folder for Tech-Bridge Choice Data.\n",
    "\n",
    "Write to choice.db"
   ]
  },
  {
   "cell_type": "code",
   "execution_count": null,
   "id": "bcfc64be",
   "metadata": {},
   "outputs": [],
   "source": [
    "data = pd.ExcelFile('Choice Data.xlsx')\n",
    "\n",
    "tables = {}\n",
    "\n",
    "for table in data.sheet_names:\n",
    "    df = pd.read_excel(data, sheet_name=table, nrows=0)\n",
    "    tables[table] = df.columns.to_list()\n",
    "\n",
    "conn = sqlite3.connect(\"choice.db\")\n",
    "\n",
    "for sheet_name in data.sheet_names:\n",
    "    df = pd.read_excel(data, sheet_name=sheet_name)\n",
    "    df.to_sql(sheet_name, conn, index=False, if_exists=\"replace\")\n",
    "\n",
    "conn.commit()\n",
    "conn.close()"
   ]
  },
  {
   "cell_type": "markdown",
   "id": "6fc0f588",
   "metadata": {},
   "source": [
    "Rename column in RW_ORG from '[' to 'ORG_ID'."
   ]
  },
  {
   "cell_type": "code",
   "execution_count": 4,
   "id": "c8e74161",
   "metadata": {},
   "outputs": [],
   "source": [
    "conn = sqlite3.connect('choice.db')\n",
    "cursor = conn.cursor()\n",
    "\n",
    "rename = \"\"\"\n",
    "ALTER TABLE rw_org\n",
    "RENAME COLUMN '[' TO org_id;\n",
    "\"\"\"\n",
    "\n",
    "cursor.execute(rename)\n",
    "\n",
    "conn.commit()\n",
    "conn.close()"
   ]
  },
  {
   "cell_type": "markdown",
   "id": "6c582817",
   "metadata": {},
   "source": [
    "Generate 'prediction' relation with relevant columns."
   ]
  },
  {
   "cell_type": "code",
   "execution_count": 5,
   "id": "2287630a",
   "metadata": {},
   "outputs": [
    {
     "name": "stdout",
     "output_type": "stream",
     "text": [
      "None\n"
     ]
    }
   ],
   "source": [
    "conn = sqlite3.connect('choice.db')\n",
    "cursor = conn.cursor()\n",
    "\n",
    "query = \"\"\"\n",
    "CREATE TABLE prediction AS\n",
    "SELECT header.donationdate posting_date,\n",
    "header.donorname donor_id,\n",
    "lines.totalgrossweight gross_weight,\n",
    "header.warehousename branch_code,\n",
    "lines.storagerequirement storage_code\n",
    "FROM amx_donation_header header\n",
    "JOIN amx_donation_lines lines ON header.donationnumber = lines.donationnumber\n",
    "\"\"\"\n",
    "\n",
    "cursor.execute(query)\n",
    "print(cursor.fetchone())\n",
    "\n",
    "conn.commit()\n",
    "conn.close()"
   ]
  }
 ],
 "metadata": {
  "kernelspec": {
   "display_name": ".venv",
   "language": "python",
   "name": "python3"
  },
  "language_info": {
   "codemirror_mode": {
    "name": "ipython",
    "version": 3
   },
   "file_extension": ".py",
   "mimetype": "text/x-python",
   "name": "python",
   "nbconvert_exporter": "python",
   "pygments_lexer": "ipython3",
   "version": "3.11.11"
  }
 },
 "nbformat": 4,
 "nbformat_minor": 5
}
