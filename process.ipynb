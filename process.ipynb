{
 "cells": [
  {
   "cell_type": "markdown",
   "metadata": {},
   "source": [
    "# Process data\n",
    "\n",
    "Thoughts\n",
    "\n",
    "Tables, attributes that are important\n",
    "\n",
    "Requirements are in requirements.txt"
   ]
  },
  {
   "cell_type": "code",
   "execution_count": null,
   "metadata": {},
   "outputs": [],
   "source": [
    "import pandas as pd"
   ]
  },
  {
   "cell_type": "markdown",
   "metadata": {},
   "source": [
    "Sheets: ['AE - DocumentHeader', 'AE - DocumentLine', 'RW_ORG', 'RW_USER']\n",
    "\n",
    "Corresponds to the data dictionary table name"
   ]
  },
  {
   "cell_type": "code",
   "execution_count": 3,
   "metadata": {},
   "outputs": [
    {
     "name": "stdout",
     "output_type": "stream",
     "text": [
      "['AE - DocumentHeader', 'AE - DocumentLine', 'RW_ORG', 'RW_USER']\n"
     ]
    }
   ],
   "source": [
    "sheets = pd.ExcelFile(\"./data/AE Data.xlsx\").sheet_names\n",
    "print(sheets)"
   ]
  },
  {
   "cell_type": "code",
   "execution_count": null,
   "metadata": {},
   "outputs": [],
   "source": [
    "data_dict = pd.ExcelFile(\"./data/AE Data.xslx\")\n",
    "\n",
    "tables = {}\n",
    "\n",
    "for table in data_dict.sheet_names:\n",
    "    pd.read_excel()"
   ]
  }
 ],
 "metadata": {
  "kernelspec": {
   "display_name": ".venv",
   "language": "python",
   "name": "python3"
  },
  "language_info": {
   "codemirror_mode": {
    "name": "ipython",
    "version": 3
   },
   "file_extension": ".py",
   "mimetype": "text/x-python",
   "name": "python",
   "nbconvert_exporter": "python",
   "pygments_lexer": "ipython3",
   "version": "3.11.11"
  }
 },
 "nbformat": 4,
 "nbformat_minor": 2
}
