{
 "cells": [
  {
   "cell_type": "markdown",
   "metadata": {},
   "source": [
    "# Process data\n",
    "\n",
    "Thoughts\n",
    "\n",
    "Tables, attributes that are important\n",
    "\n",
    "Requirements are in requirements.txt"
   ]
  },
  {
   "cell_type": "code",
   "execution_count": 24,
   "metadata": {},
   "outputs": [],
   "source": [
    "import pandas as pd"
   ]
  },
  {
   "cell_type": "markdown",
   "metadata": {},
   "source": [
    "Sheets: ['AMX_OFFER_HEADER', 'AMX_OFFER_LINES', 'AMX_DONATION_HEADER', 'AMX_DONATION_LINES', 'ACBIDS_ARCHIVE', 'Choice - DOCUMENTHEADER', 'Choice - DOCUMENTLINES', 'RW_ORG', 'RW_USER']\n",
    "\n",
    "Corresponds to the data dictionary table name"
   ]
  },
  {
   "cell_type": "code",
   "execution_count": null,
   "metadata": {},
   "outputs": [],
   "source": [
    "sheets = pd.ExcelFile('./data/Choice Data.xlsx').sheet_names\n",
    "print(sheets)"
   ]
  },
  {
   "cell_type": "code",
   "execution_count": null,
   "metadata": {},
   "outputs": [],
   "source": [
    "data = pd.ExcelFile('./data/Choice Data.xlsx')\n",
    "\n",
    "tables = {}\n",
    "\n",
    "for table in data.sheet_names:\n",
    "    df = pd.read_excel(data, sheet_name=table, nrows=0)\n",
    "    tables[table] = df.columns.to_list()\n",
    "    \n",
    "# print(tables)\n",
    "\n",
    "print('len:', len(tables['AMX_DONATION_HEADER']))"
   ]
  },
  {
   "cell_type": "markdown",
   "metadata": {},
   "source": [
    "'AMX_OFFER_HEADER': ['OFFERNUMBER', 'ANAME', 'ACONTACT', 'ACITY', 'ASTATE', 'APHONE', 'OFFERDATE', 'OFFERTIME', 'OFFEREXPIRATIONDATE', 'OFFEREXPIRATIONTIME', 'OUTBYDATE', 'FIRSTHALFHOURFREE', 'DONORID', 'DONORNAME', 'DONORREFERENCENUMBER', 'RESTRICTIONS', 'WCONTACTNAME', 'WAREHOUSENAME', 'WCONTACTADDRESS', 'WCONTACTCITY', 'WCONTACTSTATE', 'WCONTACTZIP', 'RELEASEDATE', 'SHIPMENTMETHOD', 'STAGINGMETHOD', 'RELEASENUMBER', 'CREDITEXPIRATIONTIME', 'LOGISTICSREP', 'RECEIPTDUEDATE', 'LOGREPPHONE', 'LOGREPFAX', 'LOGREPEMAIL', 'MILES', 'MAGREFNUMBER', 'DONATIONNUMBER', 'STATUS', 'HTMLFILENAME', 'DATEPICKEDUP', 'DECLINEREASONCODE', 'WCONTACTPHONE', 'WCONTACTEMAIL', 'RECEIPTEDBY', 'AFFILIATECOMMENTS', 'TRANSPORTATION', 'DELIVERYINSTRUCTIONS', 'LOADNUMBER'],\n",
    "\n",
    "'AMX_OFFER_LINES': ['MAGREFNUMBER', 'ITEMDESCRIPTION', 'PRODUCTTYPECODE', 'PACK', 'SIZE_', 'SIZEUOM', 'QUANTITY', 'QUANTITYPERPALLET', 'GROSSWEIGHT', 'NETWEIGHT', 'CUBE', 'MANUFACTUREDATE', 'SHELFLIFE', 'EXTENSION', 'UNITOFMEASURE', 'TOTALPALLETS', 'TOTALGROSSWEIGHT', 'TOTALCUBE', 'STORAGEREQUIREMENT', 'EXPIRATIONDATE', 'USEBYDATE', 'BILLOFLADINGNUMBER', 'PACKAGINGTYPE', 'DONATIONREASON', 'ITEMNUMBER', 'OFFERNUMBER', 'OUTBYDATE', 'DONORITEMNO', 'QUANTITYRECEIVED', 'PALLETSRECEIVED', 'GROSSWEIGHTRECEIVED', 'GROUPID'],\n",
    "\n",
    "'AMX_DONATION_HEADER': ['DONATIONNUMBER', 'DONORID', 'DONORNAME', 'DCONTACTNAME', 'DCONTACTCITYSTATEZIP', 'DCONTACTPHONE', 'DCONTACTFAX', 'DONORREFERENCENUMBER', 'DONATIONDATE', 'RELEASEDATE', 'DCONTACTEMAIL', 'RCONTACTNAME', 'RCONTACTPHONE', 'RCONTACTEMAIL', 'WCONTACTNAME', 'WAREHOUSENAME', 'WCONTACTADDRESS', 'WCONTACTCITYSTATEZIP', 'WCONTACTPHONE', 'WCONTACTFAX', 'RELEASENUMBER', 'SHIPMENTMETHOD', 'STAGINGMETHOD', 'DELIVERYINSTRUCTIONS', 'STATUS', 'MAGREFNUMBER', 'HTMLFILENAME', 'OUTBYDATE', 'RCONTACTFAX', 'WCONTACTEMAIL'], \n",
    "\n",
    "'AMX_DONATION_LINES': ['DONATIONNUMBER', 'ITEMNUMBER', 'ITEMDESCRIPTION', 'DONATIONREASON', 'PACK', 'SIZE_', 'SIZEUOM', 'PACKAGINGTYPE', 'UNITOFMEASURE', 'QUANTITY', 'QUANTITYPERPALLET', 'TOTALPALLETS', 'GROSSWEIGHT', 'TOTALGROSSWEIGHT', 'NETWEIGHT', 'CUBE', 'STORAGEREQUIREMENT', 'MANUFACTUREDATE', 'EXPIRATIONDATE', 'SHELFLIFE', 'EXTENSION', 'USEBYDATE', 'BILLOFLADINGNUMBER', 'STATUS', 'CODEDATETYPE', 'MAGREFNUMBER'], \n",
    "\n",
    "'ACBIDS_ARCHIVE': ['DOCUMENTID', 'AFFILIATEWEBID', 'BIDAMOUNT', 'BIDDATE', 'BIDTIME', 'RANK', 'AVAILABLELOADS', 'STATUS', 'ISINITIATOR', 'GROUPID', 'PASSKEY', 'LOADS', 'REASON', 'WINNINGBID', 'USERNAME', 'CREDITSHARES', 'SHARES', 'GROSSWEIGHT', 'DESCRIPTION', 'ID', 'INITIATORWEBID', 'WONLOAD', 'WINNINGBIDLOAD', 'AUCTIONDATE', 'SESSIONINFO', 'TRANSPORTATION'], \n",
    "\n",
    "'Choice - DOCUMENTHEADER': ['DOCUMENTID', 'REFNUMBER', 'SOURCEORG', 'USERID', 'STATUS', 'CREATEDDATE', 'EXPIRYDATE', 'MODIFIEDDATE', 'WAREHOUSEID', 'PROP1', 'PROP2', 'PROP3', 'PROP4', 'PROP5', 'PROP6', 'PROP7', 'PROP8', 'PROP9', 'PROP10', 'PROP11', 'PROP12', 'PROP13', 'PROP14', 'PROP15', 'NOTIFY', 'DOCTYPE', 'USERNAME', 'USEREMAIL', 'SOURCEORGNAME', 'DOMAINID', 'DOMAINNAME', 'PROP16', 'PROP17', 'PROP18', 'PROP19', 'PROP20', 'PROP21', 'PROP22', 'PROP23', 'PROP24', 'PROP25', 'PROP26', 'PROP27', 'PROP28', 'PROP29', 'PROP30', 'PROP31', 'PROP32', 'PROP33', 'PROP34', 'PROP35'], \n",
    "\n",
    "'Choice - DOCUMENTLINES': ['HEADERID', 'LINEITEMNUMBER', 'ITEMNAME', 'ITEMCODE', 'TRADINGGROUP', 'DESTINATIONORG', 'DONATEDQUANTITY', 'PROP1', 'PROP2', 'PROP3', 'PROP4', 'PROP5', 'PROP6', 'PROP7', 'PROP8', 'PROP9', 'PROP10', 'PROP11', 'PROP12', 'PROP13', 'PROP14', 'PROP16', 'PROP17', 'PROP18', 'PROP19', 'PROP20', 'NOTIFY', 'PROP15', 'STATUS', 'ACCEPTEDQUANTITY', 'ACCEPTEDDATE', 'RECEIPTEDQUANTITY', 'RECEIPTEDDATE', 'DESTINATIONORGNAME', 'COMMENTS', 'USERID', 'USERFIRSTNAME', 'USERLASTNAME', 'USEREMAIL', 'RPROP1', 'RPROP2', 'RPROP3', 'RPROP4', 'RPROP5', 'RPROP6', 'RPROP7', 'RPROP8', 'RPROP9', 'RPROP10', 'RPROP11', 'RPROP12', 'RPROP13', 'RPROP14', 'RPROP15', 'PROP21', 'PROP22', 'PROP23', 'PROP24', 'PROP25', 'PROP26', 'PROP27', 'PROP28', 'PROP29', 'PROP30'], \n",
    "\n",
    "'RW_ORG': ['[', 'NAME', 'PRINTABLE_NAME', 'STATUS_FLAG', 'E_MAIL', 'DESCRIPTION', 'ONE_APPROVER_FLAG', 'FINAL_AMOUNT', 'CURRENCY', 'CURRENCY_PATTERN', 'FLOAT_PATTERN', 'GROUP_SEPARATOR', 'GROUP_SIZE', 'DECIMAL_CHAR', 'LANGUAGE', 'COUNTRY', 'VARIANT', 'TIME_ZONE', 'DOMAIN', 'URL', 'DIVISION_ID', 'EXTERNAL_ID', 'DUNS_NUMBER', 'TAX_ID', 'INDUSTRY_CODE', 'CONTACT_NAME', 'ORG_TYPE', 'CUSTOM_TYPE', 'CREATED_TIME', 'CREATED_BY', 'MODIFIED_TIME', 'MODIFIED_BY', 'SYS_FLAGS', 'PATH', 'YEARS_IN_BUSINESS', 'INDUSTRY_VAL_NUM', 'ANNUAL_REV_VID', 'EMP_COUNT_VID', 'OCA', 'PARENT_ORG_ID', 'FINAL_APPROVER_ID', 'ADMIN_USER_ID', 'SUPPLIER_ID', 'MASTER_ORG_ID'], \n",
    "\n",
    "'RW_USER': ['USER_ID', 'LOGIN_STR', 'STATUS_CODE', 'E_MAIL', 'LAST_NAME', 'FIRST_NAME', 'MIDDLE_NAME', 'PRINTABLE_NAME', 'EMPLOYEE_ID', 'TELEPHONE', 'FAX', 'TITLE', 'SYS_FLAGS', 'ADDRESS_LINE_1', 'ADDRESS_LINE_2', 'ADDRESS_LINE_3', 'CITY', 'STATE', 'COUNTRY', 'ZIP', 'SALUTATION_VID', 'IS_CONTACT_ALLOWED', 'PASSWORD_SET_DATE', 'PASSWORD_REMINDER', 'PASSWORD_QUESTION', 'PASSWORD_ANSWER', 'CREATED_BY', 'CREATED_TIME', 'MODIFIED_BY', 'MODIFIED_TIME', 'EXTERNAL_ID', 'OCA', 'ORG_ID', 'REPORTS_TO_ID', 'JOB_LEVEL_ID', 'JOB_FUNCTION_ID']"
   ]
  },
  {
   "cell_type": "markdown",
   "metadata": {},
   "source": [
    "Rename RW_ORG column '[' to 'ORG_ID'"
   ]
  },
  {
   "cell_type": "markdown",
   "metadata": {},
   "source": [
    "Relavant data/attributes\n",
    "\n",
    "From choice data, check that\n",
    "\n",
    "Posting Date: AMX_DONATION_HEADER --> DONATIONDATE\n",
    "\n",
    "Donor ID: RW_ORG --> NAME\n",
    "\n",
    "Gross Weight: AMX_DONATION_LINES --> TOTALGROSSWEIGHT\n",
    "\n",
    "Branch Code: AMX_DONATION_HEADER --> WAREHOUSENAME\n",
    "\n",
    "Storage Code: AMX_DONATION_LINES --> STORAGEREQUIREMENT\n",
    "\n",
    "~~Donor Class of Trade: RW_ORG --> ORG_TYPE (Note that all ORG_TYPE are the same, which is noted \"S\")~~\n",
    "\n",
    "Item Number: AMX_DONATION_LINES --> DONATIONNUMBER\n",
    "\n",
    "We will mostly focus on the following sheets of the dataset \"Choice Data.xlsx\": \n",
    "    AMX_DONATION_LINES: records the donated items\n",
    "    AMX_DONATION_HEADER: records the donors of each donated items and the warehouse info\n",
    "    RW_ORG: records general info of all different donors\n",
    "\n",
    "The three datasets are linked in the following way:\n",
    "    Each donation has a DONATIONNUMBER. The DONATIONNUMBER is present in AMX_DONATION_LINES and AMX_DONATION_HEADER, which can link these two datasets, providing more information on each donated items. \n",
    "    Each donor has a DONORID. The DONORID is present in AMX_DONATION_HEADER and RW_ORG, which can link these two datasets, providing more information on donors.\n",
    "\n",
    "Review sample of data."
   ]
  },
  {
   "cell_type": "markdown",
   "metadata": {},
   "source": [
    "xlsx > sqlite database!\n",
    "Multipe tables/sheets/relations\n",
    "\n",
    "https://emory-my.sharepoint.com/shared?listurl=https%3A%2F%2Femory%2Esharepoint%2Ecom%2Fsites%2FEmoryCenterforAILearningStaff%2FShared%20Documents&id=%2Fsites%2FEmoryCenterforAILearningStaff%2FShared%20Documents%2FGeneral%2FAI%2EData%20Lab%2FSpring%2025%2FProject%20Backgrounds%2FTechBridge%2FHunger%20Relief%20Product%20Info%2FEntity%20Relationship%20Diagrams%20%2D%20TechBridge%20%2D%20AI%2EDataLab%2Epdf&parent=%2Fsites%2FEmoryCenterforAILearningStaff%2FShared%20Documents%2FGeneral%2FAI%2EData%20Lab%2FSpring%2025%2FProject%20Backgrounds%2FTechBridge%2FHunger%20Relief%20Product%20Info"
   ]
  },
  {
   "cell_type": "code",
   "execution_count": null,
   "metadata": {},
   "outputs": [],
   "source": [
    "import sqlite3\n",
    "\n",
    "'''conn = sqlite3.connect(\"data/choice.db\")\n",
    "\n",
    "for sheet_name in data.sheet_names:\n",
    "    df = pd.read_excel(data, sheet_name=sheet_name)\n",
    "    df.to_sql(sheet_name, conn, index=False, if_exists=\"replace\")\n",
    "\n",
    "conn.commit()\n",
    "conn.close()'''\n",
    "\n",
    "# Rename column in RW_ORG from '[' to 'ORG_ID'\n",
    "\n",
    "conn = sqlite3.connect('data/choice.db')\n",
    "cursor = conn.cursor()\n",
    "\n",
    "rename = \"\"\"\n",
    "ALTER TABLE rw_org\n",
    "RENAME COLUMN '[' TO org_id;\n",
    "\"\"\"\n",
    "\n",
    "cursor.execute(rename)\n",
    "\n",
    "conn.commit()\n",
    "conn.close()"
   ]
  },
  {
   "cell_type": "markdown",
   "metadata": {},
   "source": [
    "Queries"
   ]
  },
  {
   "cell_type": "code",
   "execution_count": null,
   "metadata": {},
   "outputs": [
    {
     "name": "stdout",
     "output_type": "stream",
     "text": [
      "                      name\n",
      "0         AMX_OFFER_HEADER\n",
      "1          AMX_OFFER_LINES\n",
      "2      AMX_DONATION_HEADER\n",
      "3       AMX_DONATION_LINES\n",
      "4           ACBIDS_ARCHIVE\n",
      "5  Choice - DOCUMENTHEADER\n",
      "6   Choice - DOCUMENTLINES\n",
      "7                   RW_ORG\n",
      "8                  RW_USER\n",
      "9               prediction\n"
     ]
    }
   ],
   "source": [
    "conn = sqlite3.connect('data/choice.db')\n",
    "\n",
    "query = 'SELECT name FROM sqlite_master WHERE type='table';\"\n",
    "# query = \"SELECT * FROM AMX_OFFER_HEADER LIMIT 10;\" # demo\n",
    "\n",
    "# query = \"SELECT * FROM amx_donation_header ORDER BY donationDate LIMIT 10;\"\n",
    "\n",
    "result = pd.read_sql_query(query, conn)\n",
    "\n",
    "print(result)\n",
    "\n",
    "conn.close()"
   ]
  },
  {
   "cell_type": "markdown",
   "metadata": {},
   "source": [
    "Translate Choice to time series compatible data.\n",
    "Figure this out.\n",
    "\n",
    "ORDER BY DONATIONDATE"
   ]
  },
  {
   "cell_type": "markdown",
   "metadata": {},
   "source": [
    "Figure out how many tuples in each table."
   ]
  },
  {
   "cell_type": "code",
   "execution_count": 18,
   "metadata": {},
   "outputs": [
    {
     "name": "stdout",
     "output_type": "stream",
     "text": [
      "{'AMX_OFFER_HEADER': 46509, 'AMX_OFFER_LINES': 359978, 'AMX_DONATION_HEADER': 13469, 'AMX_DONATION_LINES': 406616, 'ACBIDS_ARCHIVE': 5099, 'Choice - DOCUMENTHEADER': 11828, 'Choice - DOCUMENTLINES': 302671, 'RW_ORG': 80, 'RW_USER': 1923}\n"
     ]
    }
   ],
   "source": [
    "conn = sqlite3.connect('data/choice.db')\n",
    "cursor = conn.cursor()\n",
    "\n",
    "get_table_names = \"SELECT name FROM sqlite_master WHERE type='table';\"\n",
    "cursor.execute(get_table_names)\n",
    "table_names = cursor.fetchall()\n",
    "\n",
    "lengths = {}\n",
    "\n",
    "for table_name in table_names:\n",
    "    get_lengths = f\"\"\"\n",
    "    SELECT COUNT(*)\n",
    "    FROM '{table_name[0]}'\n",
    "    \"\"\"\n",
    "    \n",
    "    cursor.execute(get_lengths)\n",
    "    lengths[table_name[0]] = cursor.fetchone()[0]\n",
    "\n",
    "print(lengths)\n"
   ]
  },
  {
   "cell_type": "markdown",
   "metadata": {},
   "source": [
    "'AMX_OFFER_HEADER': 46509, \n",
    "\n",
    "'AMX_OFFER_LINES': 359978,\n",
    "\n",
    "'AMX_DONATION_HEADER': 13469,\n",
    "\n",
    "'AMX_DONATION_LINES': 406616,\n",
    "\n",
    "'ACBIDS_ARCHIVE': 5099,\n",
    "\n",
    "'Choice - DOCUMENTHEADER': 11828,\n",
    "\n",
    "'Choice - DOCUMENTLINES': 302671,\n",
    "\n",
    "'RW_ORG': 80, \n",
    "\n",
    "'RW_USER': 1923"
   ]
  },
  {
   "cell_type": "code",
   "execution_count": null,
   "metadata": {},
   "outputs": [],
   "source": [
    "conn = sqlite3.connect('data/choice.db')\n",
    "cursor = conn.cursor()\n",
    "\n",
    "query = \"\"\"\n",
    "CREATE TABLE prediction AS\n",
    "SELECT header.donationdate posting_date,\n",
    "header.donorname donor_id,\n",
    "lines.totalgrossweight gross_weight,\n",
    "header.warehousename branch_code,\n",
    "lines.storagerequirement storage_code\n",
    "FROM amx_donation_header header\n",
    "JOIN amx_donation_lines lines ON header.donationnumber = lines.donationnumber\n",
    "\"\"\"\n",
    "\n",
    "# Exclude rw_org since all 80 tuples are S org type.\n",
    "# How to deal with null names?\n",
    "\n",
    "cursor.execute(query)\n",
    "print(cursor.fetchone())\n",
    "\n",
    "conn.commit()\n",
    "conn.close()"
   ]
  },
  {
   "cell_type": "markdown",
   "metadata": {},
   "source": [
    "Check for similarity of columns to article data\n",
    "\n",
    "Add more variables that we have available v. the paper?"
   ]
  },
  {
   "cell_type": "code",
   "execution_count": null,
   "metadata": {},
   "outputs": [
    {
     "name": "stdout",
     "output_type": "stream",
     "text": [
      "189\n"
     ]
    }
   ],
   "source": [
    "conn = sqlite3.connect('data/choice.db')\n",
    "cursor = conn.cursor()\n",
    "\n",
    "check = \"\"\"\n",
    "SELECT COUNT(*)\n",
    "FROM prediction\n",
    "GROUP BY donor_id\n",
    "\"\"\"\n",
    "\n",
    "cursor.execute(check)\n",
    "print(len(cursor.fetchall()))\n",
    "\n",
    "# 659 branches :( not good\n",
    "# 7 storage codes :)"
   ]
  }
 ],
 "metadata": {
  "kernelspec": {
   "display_name": ".venv",
   "language": "python",
   "name": "python3"
  },
  "language_info": {
   "codemirror_mode": {
    "name": "ipython",
    "version": 3
   },
   "file_extension": ".py",
   "mimetype": "text/x-python",
   "name": "python",
   "nbconvert_exporter": "python",
   "pygments_lexer": "ipython3",
   "version": "3.11.11"
  }
 },
 "nbformat": 4,
 "nbformat_minor": 2
}
